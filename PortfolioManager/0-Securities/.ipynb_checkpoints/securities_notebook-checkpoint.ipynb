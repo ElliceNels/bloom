{
 "cells": [
  {
   "cell_type": "markdown",
   "metadata": {},
   "source": [
    "```python\n",
    "# Copyright 2022 Bloomberg Finance L.P.\n",
    "#\n",
    "# Licensed under the Apache License, Version 2.0 (the \"License\");\n",
    "# you may not use this file except in compliance with the License.\n",
    "# You may obtain a copy of the License at\n",
    "#\n",
    "#     http://www.apache.org/licenses/LICENSE-2.0\n",
    "#\n",
    "# Unless required by applicable law or agreed to in writing, software\n",
    "# distributed under the License is distributed on an \"AS IS\" BASIS,\n",
    "# WITHOUT WARRANTIES OR CONDITIONS OF ANY KIND, either express or implied.\n",
    "# See the License for the specific language governing permissions and\n",
    "# limitations under the License.\n",
    "```\n",
    "\n",
    "# Securities Learning Item\n",
    "\n",
    "### What is a security?\n",
    "\n",
    "A security is an instrument or object that represents some sort of ownership or relationship of an entity which holds some monetary value. This may sound very ambiguous and that's because securities as a term are ambiguous. A security can be a stock like AAPL, shares that represent an ownership stake in a corporation, debt (such as a mortgage or corporate bond), or even new types of securities such as cryptocurrencies.\n",
    "\n",
    "### Problem Definition\n",
    "\n",
    "We want to create a class that can be used to represent a security. Securities have names which are unique identifiers of what they represent. Additionally securities have a monetary value associated with them but for now we'll ignore any valuations. The class we create should satisfy the following.\n",
    "\n",
    "- Allow for the name of a security to be stored on object construction & via a setter function\n",
    "- Allow for the name of the security to be retrieved via a getter\n",
    "\n",
    "### Provided Tools\n",
    "\n",
    "#### *Data Source*\n",
    "\n",
    "For this section no data generators are provided\n",
    "\n",
    "#### *Solution Interface*\n",
    "\n",
    "Your solution will need to follow the interface provided in the lab. Below is a snippet of the interface for securities that you can inherit from. The methods that will be tested are displayed & will need to be overwritten with your implementation. You're free to add more methods then what is displayed in the interface! \n",
    "\n",
    "```python\n",
    "#filename interfaces.securityInterface.py\n",
    "#Security Class Interface\n",
    "class securityInterface():\n",
    "    def __init__(self, name: str) -> None:\n",
    "        pass\n",
    "    \n",
    "    def getName(self) -> str:\n",
    "        return \"Implement Me!\"\n",
    "```\n",
    "\n",
    "To successfully import the interface into your solution cell you'll need to add the below code snippet. Due to the filesystem layout in the current Jupyter notebook, importing relative .pys requires us to adjust the system path.\n",
    "\n",
    "```python\n",
    "import os\n",
    "import sys\n",
    "module_path = os.path.abspath('..')\n",
    "if module_path not in sys.path:\n",
    "    sys.path.append(module_path)\n",
    "```\n",
    "\n",
    "#### *Testing*\n",
    "\n",
    "Once you have completed & saved your solution you can run the test file to validate that your solution works as expected. For the test to run the following need to be true.\n",
    "- Saved code to file **implementations/securitySolution.py**\n",
    "- Create a class with the name **security** that inherits from **securityInterface**\n",
    "\n",
    "### Stretch Goals\n",
    "\n",
    "If you complete your class & have a solution with valid tests try completing the following stretch goals \n",
    "\n",
    "- Add custom implementation for class's __str__ method & creating a new unit test to validate your updated method."
   ]
  },
  {
   "cell_type": "code",
   "execution_count": 1,
   "metadata": {},
   "outputs": [
    {
     "name": "stdout",
     "output_type": "stream",
     "text": [
      "Overwriting ../implementations/securitySolution.py\n"
     ]
    }
   ],
   "source": [
    "%%writefile ../implementations/securitySolution.py \n",
    "#Uncomment line above & run cell to save solution\n",
    "#TODO Define class that implements securityInterface & allows for the management of a security"
   ]
  },
  {
   "cell_type": "code",
   "execution_count": 2,
   "metadata": {},
   "outputs": [
    {
     "name": "stdout",
     "output_type": "stream",
     "text": [
      "Collecting package metadata (current_repodata.json): done\n",
      "Solving environment: done\n",
      "\n",
      "\n",
      "==> WARNING: A newer version of conda exists. <==\n",
      "  current version: 23.9.0\n",
      "  latest version: 25.3.1\n",
      "\n",
      "Please update conda by running\n",
      "\n",
      "    $ conda update -n base -c conda-forge conda\n",
      "\n",
      "Or to minimize the number of packages updated during conda update use\n",
      "\n",
      "     conda install conda=25.3.1\n",
      "\n",
      "\n",
      "\n",
      "# All requested packages already installed.\n",
      "\n",
      "\n",
      "Note: you may need to restart the kernel to use updated packages.\n",
      "Requirement already satisfied: ipytest in /opt/conda/lib/python3.11/site-packages (0.14.2)\n",
      "Requirement already satisfied: ipython in /opt/conda/lib/python3.11/site-packages (from ipytest) (8.16.1)\n",
      "Requirement already satisfied: packaging in /opt/conda/lib/python3.11/site-packages (from ipytest) (23.2)\n",
      "Requirement already satisfied: pytest>=5.4 in /opt/conda/lib/python3.11/site-packages (from ipytest) (7.4.4)\n",
      "Requirement already satisfied: iniconfig in /opt/conda/lib/python3.11/site-packages (from pytest>=5.4->ipytest) (2.0.0)\n",
      "Requirement already satisfied: pluggy<2.0,>=0.12 in /opt/conda/lib/python3.11/site-packages (from pytest>=5.4->ipytest) (1.5.0)\n",
      "Requirement already satisfied: backcall in /opt/conda/lib/python3.11/site-packages (from ipython->ipytest) (0.2.0)\n",
      "Requirement already satisfied: decorator in /opt/conda/lib/python3.11/site-packages (from ipython->ipytest) (5.1.1)\n",
      "Requirement already satisfied: jedi>=0.16 in /opt/conda/lib/python3.11/site-packages (from ipython->ipytest) (0.19.1)\n",
      "Requirement already satisfied: matplotlib-inline in /opt/conda/lib/python3.11/site-packages (from ipython->ipytest) (0.1.6)\n",
      "Requirement already satisfied: pickleshare in /opt/conda/lib/python3.11/site-packages (from ipython->ipytest) (0.7.5)\n",
      "Requirement already satisfied: prompt-toolkit!=3.0.37,<3.1.0,>=3.0.30 in /opt/conda/lib/python3.11/site-packages (from ipython->ipytest) (3.0.39)\n",
      "Requirement already satisfied: pygments>=2.4.0 in /opt/conda/lib/python3.11/site-packages (from ipython->ipytest) (2.16.1)\n",
      "Requirement already satisfied: stack-data in /opt/conda/lib/python3.11/site-packages (from ipython->ipytest) (0.6.2)\n",
      "Requirement already satisfied: traitlets>=5 in /opt/conda/lib/python3.11/site-packages (from ipython->ipytest) (5.11.2)\n",
      "Requirement already satisfied: pexpect>4.3 in /opt/conda/lib/python3.11/site-packages (from ipython->ipytest) (4.8.0)\n",
      "Requirement already satisfied: parso<0.9.0,>=0.8.3 in /opt/conda/lib/python3.11/site-packages (from jedi>=0.16->ipython->ipytest) (0.8.3)\n",
      "Requirement already satisfied: ptyprocess>=0.5 in /opt/conda/lib/python3.11/site-packages (from pexpect>4.3->ipython->ipytest) (0.7.0)\n",
      "Requirement already satisfied: wcwidth in /opt/conda/lib/python3.11/site-packages (from prompt-toolkit!=3.0.37,<3.1.0,>=3.0.30->ipython->ipytest) (0.2.8)\n",
      "Requirement already satisfied: executing>=1.2.0 in /opt/conda/lib/python3.11/site-packages (from stack-data->ipython->ipytest) (1.2.0)\n",
      "Requirement already satisfied: asttokens>=2.1.0 in /opt/conda/lib/python3.11/site-packages (from stack-data->ipython->ipytest) (2.4.0)\n",
      "Requirement already satisfied: pure-eval in /opt/conda/lib/python3.11/site-packages (from stack-data->ipython->ipytest) (0.2.2)\n",
      "Requirement already satisfied: six>=1.12.0 in /opt/conda/lib/python3.11/site-packages (from asttokens>=2.1.0->stack-data->ipython->ipytest) (1.16.0)\n",
      "Note: you may need to restart the kernel to use updated packages.\n"
     ]
    }
   ],
   "source": [
    "#Run this cell before running the your testing cell. This will setup the ipytest cell magic command. If you're running this notebook locally you may need to install ipytest from pip or conda\n",
    "%conda install ipytest\n",
    "%pip install ipytest\n",
    "import ipytest\n",
    "\n",
    "ipytest.autoconfig()"
   ]
  },
  {
   "cell_type": "code",
   "execution_count": 19,
   "metadata": {},
   "outputs": [
    {
     "name": "stdout",
     "output_type": "stream",
     "text": [
      "\u001b[32m.\u001b[0m\u001b[32m.\u001b[0m\u001b[32m                                                                                           [100%]\u001b[0m\n"
     ]
    }
   ],
   "source": [
    "%%ipytest -qq\n",
    "import os\n",
    "import sys\n",
    "\n",
    "#Testing Cell\n",
    "import implementations.securitySolution\n",
    "import importlib\n",
    "importlib.reload(implementations.securitySolution)\n",
    "\n",
    "def test_securityInit():\n",
    "    #GIVEN\n",
    "    EXPECTED_NAME = \"DSAQ US Equity\"\n",
    "\n",
    "    #WHEN\n",
    "    testObj = implementations.securitySolution.security(EXPECTED_NAME)\n",
    "\n",
    "    #EXPECT\n",
    "    assert (testObj.getName() == EXPECTED_NAME)\n",
    "    \n",
    "def test_securityStr():\n",
    "    #GIVEN\n",
    "    EXPECTED_NAME = \"DSAQ US Equity\"\n",
    "\n",
    "    #WHEN\n",
    "    testObj = implementations.securitySolution.security(EXPECTED_NAME)\n",
    "\n",
    "    #EXPECT\n",
    "    assert (str(testObj) == EXPECTED_NAME)"
   ]
  },
  {
   "cell_type": "code",
   "execution_count": null,
   "metadata": {},
   "outputs": [],
   "source": []
  }
 ],
 "metadata": {
  "interpreter": {
   "hash": "52ec483333d104506d0166a5e1a3a81d439925bc785c98fcacdf773296fc358c"
  },
  "kernelspec": {
   "display_name": "Python 3 (ipykernel)",
   "language": "python",
   "name": "python3"
  },
  "language_info": {
   "codemirror_mode": {
    "name": "ipython",
    "version": 3
   },
   "file_extension": ".py",
   "mimetype": "text/x-python",
   "name": "python",
   "nbconvert_exporter": "python",
   "pygments_lexer": "ipython3",
   "version": "3.11.6"
  }
 },
 "nbformat": 4,
 "nbformat_minor": 4
}
