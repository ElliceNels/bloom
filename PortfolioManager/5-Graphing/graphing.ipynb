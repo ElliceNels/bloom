{
 "cells": [
  {
   "cell_type": "markdown",
   "metadata": {},
   "source": [
    "```python\n",
    "# Copyright 2022 Bloomberg Finance L.P.\n",
    "#\n",
    "# Licensed under the Apache License, Version 2.0 (the \"License\");\n",
    "# you may not use this file except in compliance with the License.\n",
    "# You may obtain a copy of the License at\n",
    "#\n",
    "#     http://www.apache.org/licenses/LICENSE-2.0\n",
    "#\n",
    "# Unless required by applicable law or agreed to in writing, software\n",
    "# distributed under the License is distributed on an \"AS IS\" BASIS,\n",
    "# WITHOUT WARRANTIES OR CONDITIONS OF ANY KIND, either express or implied.\n",
    "# See the License for the specific language governing permissions and\n",
    "# limitations under the License.\n",
    "```\n",
    "\n",
    "# Graphing & BQPlot\n",
    "\n",
    "### Problem Definition\n",
    "\n",
    "Now, with a few tools at our disposal from our Python classes, let's introduce a visual component! We'll be using bqplot, a graphical library for creating interactive GUIs that Bloomberg created and published as open source. We'll cover the basics here, but you can find a more extensive tutorial at https://github.com/bqplot/bqplot! Using bqplot, we'd like to have the ability to plot the market value of our various entities over time. To handle this for now, we'll set up a simple loop which queries the market value (MV) of our entities. To start off, try plotting the market value of a single security in bqplot. The final goal of your plot should be the ability to graph the changes in your portfolio's market value over time. We can create a set of functions that generate data and interface with bqplot for reuse. \n",
    "\n",
    "***Plotter***\n",
    "- Create a method or class to plot the market value of a set of securities over time.\n",
    "    - Your class or method should take variables for the amount of data to be generated (i.e., give me a collection of security values of X size)\n",
    "    - Your graph output should have intractable data points. Clicking on a data point should print/log a string for that data point (i.e., Security X was valued at Y during Z)\n",
    "\n",
    "### Provided Tools\n",
    "\n",
    "#### *Data Source*\n",
    "\n",
    "For this portion, no additional data sources are given. You should modify your existing classes to allow for the desired functionality.\n",
    "\n",
    "#### *Solution Interface*\n",
    "\n",
    "For this portion no additional interfaces are given. Your plotter solution should create a graph of a given security's market value over time.\n",
    "\n",
    "#### *Testing*\n",
    "\n",
    "For testing, you can update your position, account, and portfolio modules from the previous sessions.\n",
    "\n",
    "### Stretch Goals\n",
    "\n",
    "If you've completed graphing your portfolio's market value over time, you can attempt to create a set of plotting solutions that allow for the graphs of positions, accounts, and portfolios over time. Some of the suggested stretch goals are the following:\n",
    "\n",
    "- Create a method or class to plot the market value of a set of positions over time. Your solution show allow for drilling down into a particular position & seeing the position's security value over time.\n",
    "- Create a method or class to plot the market value of a set of accounts/portfolio over time. Your solution show allow for drilling down into a particular account and seeing the account's position MVs over time."
   ]
  },
  {
   "cell_type": "code",
   "execution_count": 1,
   "metadata": {},
   "outputs": [
    {
     "name": "stdout",
     "output_type": "stream",
     "text": [
      "Requirement already satisfied: bqplot in /opt/conda/lib/python3.11/site-packages (0.12.44)\n",
      "Requirement already satisfied: ipywidgets<9,>=7.5.0 in /opt/conda/lib/python3.11/site-packages (from bqplot) (8.1.1)\n",
      "Requirement already satisfied: traitlets>=4.3.0 in /opt/conda/lib/python3.11/site-packages (from bqplot) (5.11.2)\n",
      "Requirement already satisfied: traittypes>=0.0.6 in /opt/conda/lib/python3.11/site-packages (from bqplot) (0.2.1)\n",
      "Requirement already satisfied: numpy>=1.10.4 in /opt/conda/lib/python3.11/site-packages (from bqplot) (1.24.4)\n",
      "Requirement already satisfied: pandas<3.0.0,>=1.0.0 in /opt/conda/lib/python3.11/site-packages (from bqplot) (2.1.1)\n",
      "Requirement already satisfied: comm>=0.1.3 in /opt/conda/lib/python3.11/site-packages (from ipywidgets<9,>=7.5.0->bqplot) (0.1.4)\n",
      "Requirement already satisfied: ipython>=6.1.0 in /opt/conda/lib/python3.11/site-packages (from ipywidgets<9,>=7.5.0->bqplot) (8.16.1)\n",
      "Requirement already satisfied: widgetsnbextension~=4.0.9 in /opt/conda/lib/python3.11/site-packages (from ipywidgets<9,>=7.5.0->bqplot) (4.0.9)\n",
      "Requirement already satisfied: jupyterlab-widgets~=3.0.9 in /opt/conda/lib/python3.11/site-packages (from ipywidgets<9,>=7.5.0->bqplot) (3.0.9)\n",
      "Requirement already satisfied: python-dateutil>=2.8.2 in /opt/conda/lib/python3.11/site-packages (from pandas<3.0.0,>=1.0.0->bqplot) (2.8.2)\n",
      "Requirement already satisfied: pytz>=2020.1 in /opt/conda/lib/python3.11/site-packages (from pandas<3.0.0,>=1.0.0->bqplot) (2023.3.post1)\n",
      "Requirement already satisfied: tzdata>=2022.1 in /opt/conda/lib/python3.11/site-packages (from pandas<3.0.0,>=1.0.0->bqplot) (2023.3)\n",
      "Requirement already satisfied: backcall in /opt/conda/lib/python3.11/site-packages (from ipython>=6.1.0->ipywidgets<9,>=7.5.0->bqplot) (0.2.0)\n",
      "Requirement already satisfied: decorator in /opt/conda/lib/python3.11/site-packages (from ipython>=6.1.0->ipywidgets<9,>=7.5.0->bqplot) (5.1.1)\n",
      "Requirement already satisfied: jedi>=0.16 in /opt/conda/lib/python3.11/site-packages (from ipython>=6.1.0->ipywidgets<9,>=7.5.0->bqplot) (0.19.1)\n",
      "Requirement already satisfied: matplotlib-inline in /opt/conda/lib/python3.11/site-packages (from ipython>=6.1.0->ipywidgets<9,>=7.5.0->bqplot) (0.1.6)\n",
      "Requirement already satisfied: pickleshare in /opt/conda/lib/python3.11/site-packages (from ipython>=6.1.0->ipywidgets<9,>=7.5.0->bqplot) (0.7.5)\n",
      "Requirement already satisfied: prompt-toolkit!=3.0.37,<3.1.0,>=3.0.30 in /opt/conda/lib/python3.11/site-packages (from ipython>=6.1.0->ipywidgets<9,>=7.5.0->bqplot) (3.0.39)\n",
      "Requirement already satisfied: pygments>=2.4.0 in /opt/conda/lib/python3.11/site-packages (from ipython>=6.1.0->ipywidgets<9,>=7.5.0->bqplot) (2.16.1)\n",
      "Requirement already satisfied: stack-data in /opt/conda/lib/python3.11/site-packages (from ipython>=6.1.0->ipywidgets<9,>=7.5.0->bqplot) (0.6.2)\n",
      "Requirement already satisfied: pexpect>4.3 in /opt/conda/lib/python3.11/site-packages (from ipython>=6.1.0->ipywidgets<9,>=7.5.0->bqplot) (4.8.0)\n",
      "Requirement already satisfied: six>=1.5 in /opt/conda/lib/python3.11/site-packages (from python-dateutil>=2.8.2->pandas<3.0.0,>=1.0.0->bqplot) (1.16.0)\n",
      "Requirement already satisfied: parso<0.9.0,>=0.8.3 in /opt/conda/lib/python3.11/site-packages (from jedi>=0.16->ipython>=6.1.0->ipywidgets<9,>=7.5.0->bqplot) (0.8.3)\n",
      "Requirement already satisfied: ptyprocess>=0.5 in /opt/conda/lib/python3.11/site-packages (from pexpect>4.3->ipython>=6.1.0->ipywidgets<9,>=7.5.0->bqplot) (0.7.0)\n",
      "Requirement already satisfied: wcwidth in /opt/conda/lib/python3.11/site-packages (from prompt-toolkit!=3.0.37,<3.1.0,>=3.0.30->ipython>=6.1.0->ipywidgets<9,>=7.5.0->bqplot) (0.2.8)\n",
      "Requirement already satisfied: executing>=1.2.0 in /opt/conda/lib/python3.11/site-packages (from stack-data->ipython>=6.1.0->ipywidgets<9,>=7.5.0->bqplot) (1.2.0)\n",
      "Requirement already satisfied: asttokens>=2.1.0 in /opt/conda/lib/python3.11/site-packages (from stack-data->ipython>=6.1.0->ipywidgets<9,>=7.5.0->bqplot) (2.4.0)\n",
      "Requirement already satisfied: pure-eval in /opt/conda/lib/python3.11/site-packages (from stack-data->ipython>=6.1.0->ipywidgets<9,>=7.5.0->bqplot) (0.2.2)\n",
      "Note: you may need to restart the kernel to use updated packages.\n",
      "Collecting package metadata (current_repodata.json): done\n",
      "Solving environment: done\n",
      "\n",
      "\n",
      "==> WARNING: A newer version of conda exists. <==\n",
      "  current version: 23.9.0\n",
      "  latest version: 25.3.1\n",
      "\n",
      "Please update conda by running\n",
      "\n",
      "    $ conda update -n base -c conda-forge conda\n",
      "\n",
      "Or to minimize the number of packages updated during conda update use\n",
      "\n",
      "     conda install conda=25.3.1\n",
      "\n",
      "\n",
      "\n",
      "## Package Plan ##\n",
      "\n",
      "  environment location: /opt/conda\n",
      "\n",
      "  added / updated specs:\n",
      "    - bqplot\n",
      "\n",
      "\n",
      "The following packages will be downloaded:\n",
      "\n",
      "    package                    |            build\n",
      "    ---------------------------|-----------------\n",
      "    bqplot-0.12.43             |     pyhd8ed1ab_1         844 KB  conda-forge\n",
      "    traittypes-0.2.1           |     pyh9f0ad1d_2          10 KB  conda-forge\n",
      "    ------------------------------------------------------------\n",
      "                                           Total:         854 KB\n",
      "\n",
      "The following NEW packages will be INSTALLED:\n",
      "\n",
      "  bqplot             conda-forge/noarch::bqplot-0.12.43-pyhd8ed1ab_1 \n",
      "  traittypes         conda-forge/noarch::traittypes-0.2.1-pyh9f0ad1d_2 \n",
      "\n",
      "\n",
      "\n",
      "Downloading and Extracting Packages:\n",
      "bqplot-0.12.43       | 844 KB    |                                       |   0% \n",
      "bqplot-0.12.43       | 844 KB    | 7                                     |   2% \u001b[A\n",
      "traittypes-0.2.1     | 10 KB     | ##################################### | 100% \u001b[A\n",
      "                                                                                \u001b[A\n",
      "                                                                                \u001b[A\n",
      "Preparing transaction: done\n",
      "Verifying transaction: done\n",
      "Executing transaction: done\n",
      "\n",
      "Note: you may need to restart the kernel to use updated packages.\n"
     ]
    }
   ],
   "source": [
    "%pip install bqplot\n",
    "%conda install bqplot\n",
    "from bqplot import *"
   ]
  },
  {
   "cell_type": "code",
   "execution_count": 2,
   "metadata": {},
   "outputs": [
    {
     "data": {
      "application/vnd.jupyter.widget-view+json": {
       "model_id": "23a1da5d76124f249b811280c03ac298",
       "version_major": 2,
       "version_minor": 0
      },
      "text/plain": [
       "Figure(axes=[Axis(scale=LinearScale()), Axis(orientation='vertical', scale=LinearScale(), tick_format='0.2f')]…"
      ]
     },
     "execution_count": 2,
     "metadata": {},
     "output_type": "execute_result"
    }
   ],
   "source": [
    "#This is an example of creating a simple line graph using bqplot. To start off we can generate data. Bqplot can take a pair of lists to generate a plot\n",
    "\n",
    "import random\n",
    "\n",
    "y_data = random.sample(range(10, 100), 20)\n",
    "x_data = [x for x in range(0, 20)]\n",
    "\n",
    "x_sc = LinearScale()\n",
    "y_sc = LinearScale()\n",
    "\n",
    "scatter_chart = Scatter(x=x_data, y=y_data, scales= {'x': x_sc, 'y': y_sc}, colors=['dodgerblue'],\n",
    "                        interactions={'click': 'select'},\n",
    "                        selected_style={'opacity': 1.0, 'fill': 'DarkOrange', 'stroke': 'Red'},\n",
    "                        unselected_style={'opacity': 0.5})\n",
    "\n",
    "ax_x = Axis(scale=x_sc)\n",
    "ax_y = Axis(scale=y_sc, orientation='vertical', tick_format='0.2f')\n",
    "\n",
    "Figure(marks=[scatter_chart], axes=[ax_x, ax_y])"
   ]
  },
  {
   "cell_type": "code",
   "execution_count": 3,
   "metadata": {},
   "outputs": [
    {
     "data": {
      "application/vnd.jupyter.widget-view+json": {
       "model_id": "affa7e3efc5a4a099d2482907de06e1e",
       "version_major": 2,
       "version_minor": 0
      },
      "text/plain": [
       "Figure(axes=[Axis(scale=LinearScale()), Axis(orientation='vertical', scale=LinearScale(), tick_format='0.2f')]…"
      ]
     },
     "execution_count": 3,
     "metadata": {},
     "output_type": "execute_result"
    }
   ],
   "source": [
    "#In BQL on the same figure we can add multiple graphs. Let's add a line graph to the current scatter plot\n",
    "\n",
    "line = Lines(x=x_data, y=y_data, scales= {'x': x_sc, 'y': y_sc}, colors=['dodgerblue'])\n",
    "Figure(marks=[scatter_chart, line], axes=[ax_x, ax_y])"
   ]
  },
  {
   "cell_type": "code",
   "execution_count": 4,
   "metadata": {},
   "outputs": [
    {
     "data": {
      "application/vnd.jupyter.widget-view+json": {
       "model_id": "4ad0f5b092b344b9829973f36ed6cc7e",
       "version_major": 2,
       "version_minor": 0
      },
      "text/plain": [
       "Figure(axes=[Axis(scale=LinearScale()), Axis(orientation='vertical', scale=LinearScale(), tick_format='0.2f')]…"
      ]
     },
     "execution_count": 4,
     "metadata": {},
     "output_type": "execute_result"
    }
   ],
   "source": [
    "#We can also add call back events to our graphs. Let's add an event to print the data points on our scatter graph\n",
    "def scatterCallBack(self, target):\n",
    "    print(target)\n",
    " \n",
    "scatter_chart.on_element_click(scatterCallBack)\n",
    "Figure(marks=[scatter_chart, line], axes=[ax_x, ax_y])"
   ]
  },
  {
   "cell_type": "code",
   "execution_count": 31,
   "metadata": {},
   "outputs": [
    {
     "data": {
      "application/vnd.jupyter.widget-view+json": {
       "model_id": "b34a8028347c4199ae5a7ef65441553f",
       "version_major": 2,
       "version_minor": 0
      },
      "text/plain": [
       "Figure(axes=[Axis(scale=LinearScale()), Axis(orientation='vertical', scale=LinearScale(), tick_format='0.2f')]…"
      ]
     },
     "execution_count": 31,
     "metadata": {},
     "output_type": "execute_result"
    }
   ],
   "source": [
    "#Create your own graphing setuping for displaying a security's market value over time.\n",
    "import os\n",
    "import sys\n",
    "module_path = os.path.abspath('..')\n",
    "if module_path not in sys.path:\n",
    "    sys.path.append(module_path)\n",
    "\n",
    "import random\n",
    "from datetime import datetime\n",
    "from implementations.securitySolution import security\n",
    "\n",
    "s = security(\"IBM US Equity\")\n",
    "y_data = [s.getCurrentMarketValue() for _ in range(5)]\n",
    "x_data = [_ for _ in range(5)]\n",
    "\n",
    "x_scale = LinearScale()\n",
    "y_scale = LinearScale()\n",
    "\n",
    "scatter_chart = Scatter(x=x_data, y=y_data, scales= {'x': x_scale, 'y': y_scale}, colors=['dodgerblue'],\n",
    "                        interactions={'click': 'select'},\n",
    "                        selectged_style={'opacity': 1.0, 'fill': 'DarkOrange', 'stroke': 'Red'},\n",
    "                        unselected_style={'opacity': 0.5})\n",
    "\n",
    "scatter_chart.on_element_click(add_point)\n",
    "\n",
    "def add_point(graph):\n",
    "    graph.x = np.append(graph.x, s.getCurrentMarketValue())\n",
    "    graph.y = np.append(graph.y, str(datetime.now()))\n",
    "# for i in range(10):\n",
    "#     add_point(scatter_chart)\n",
    "\n",
    "ax_x = Axis(scale=x_scale)\n",
    "ax_y = Axis(scale=y_scale, orientation='vertical', tick_format='0.2f')\n",
    "\n",
    "Figure(marks=[scatter_chart], axes=[ax_x, ax_y])\n",
    "\n"
   ]
  },
  {
   "cell_type": "code",
   "execution_count": null,
   "metadata": {},
   "outputs": [],
   "source": []
  },
  {
   "cell_type": "code",
   "execution_count": null,
   "metadata": {},
   "outputs": [],
   "source": []
  }
 ],
 "metadata": {
  "interpreter": {
   "hash": "52ec483333d104506d0166a5e1a3a81d439925bc785c98fcacdf773296fc358c"
  },
  "kernelspec": {
   "display_name": "Python 3 (ipykernel)",
   "language": "python",
   "name": "python3"
  },
  "language_info": {
   "codemirror_mode": {
    "name": "ipython",
    "version": 3
   },
   "file_extension": ".py",
   "mimetype": "text/x-python",
   "name": "python",
   "nbconvert_exporter": "python",
   "pygments_lexer": "ipython3",
   "version": "3.11.6"
  }
 },
 "nbformat": 4,
 "nbformat_minor": 4
}
